{
  "cells": [
    {
      "cell_type": "markdown",
      "id": "38f54474-6355-42b1-8c8d-a531822c58b1",
      "metadata": {
        "id": "38f54474-6355-42b1-8c8d-a531822c58b1"
      },
      "source": [
        "## CNN Model with Image Augmentation: Detecting Cataracts\n",
        "This notebook goes into detail about how we imported images, implemented image augmentation, structured our Convolutional Neural Network model, and analyzed our results. It also incudes sections on Feature Maps and Filters at the end of the notebook.\n",
        "\n",
        "The only change made to the model was to adjust the EarlyStopping callback so that the model would run for additional epochs.\n",
        "\n"
      ]
    },
    {
      "cell_type": "code",
      "source": [
        "from google.colab import drive\n",
        "drive.mount('/content/drive')"
      ],
      "metadata": {
        "colab": {
          "base_uri": "https://localhost:8080/"
        },
        "id": "DWrtWqwgmRgT",
        "outputId": "591e7e28-4b0f-4bc8-bd00-5422c8ee2515"
      },
      "id": "DWrtWqwgmRgT",
      "execution_count": null,
      "outputs": [
        {
          "output_type": "stream",
          "name": "stdout",
          "text": [
            "Mounted at /content/drive\n"
          ]
        }
      ]
    },
    {
      "cell_type": "markdown",
      "id": "8746ce63-2a24-4ab9-af10-d5699cd6c006",
      "metadata": {
        "id": "8746ce63-2a24-4ab9-af10-d5699cd6c006"
      },
      "source": [
        "### Imports "
      ]
    },
    {
      "cell_type": "code",
      "execution_count": null,
      "id": "e0953519-4400-4eb6-8063-e37a3922e47b",
      "metadata": {
        "id": "e0953519-4400-4eb6-8063-e37a3922e47b"
      },
      "outputs": [],
      "source": [
        "import matplotlib.pyplot as plt\n",
        "import numpy as np\n",
        "import os\n",
        "import pandas as pd\n",
        "\n",
        "from tensorflow.keras.layers import Dense, Dropout, Flatten, Conv2D, MaxPooling2D\n",
        "from tensorflow.keras.models import Sequential, Model\n",
        "from tensorflow.keras.preprocessing.image import img_to_array, load_img, ImageDataGenerator\n",
        "from tensorflow.keras.callbacks import EarlyStopping\n",
        "\n",
        "from sklearn.model_selection import train_test_split\n",
        "from sklearn.metrics import confusion_matrix, ConfusionMatrixDisplay, classification_report"
      ]
    },
    {
      "cell_type": "code",
      "execution_count": null,
      "id": "c2c89846-21e1-4313-9517-e6ee4f354058",
      "metadata": {
        "id": "c2c89846-21e1-4313-9517-e6ee4f354058"
      },
      "outputs": [],
      "source": [
        "# Setting a random seed for reproducibility\n",
        "np.random.seed(42)"
      ]
    },
    {
      "cell_type": "markdown",
      "id": "663277fd-f709-4b4f-942f-ccd6373ac0b4",
      "metadata": {
        "id": "663277fd-f709-4b4f-942f-ccd6373ac0b4"
      },
      "source": [
        "### Reading in image data as X and y"
      ]
    },
    {
      "cell_type": "code",
      "execution_count": null,
      "id": "0b4c9d01-320a-4a00-8bbc-f7901c07c9a5",
      "metadata": {
        "tags": [],
        "id": "0b4c9d01-320a-4a00-8bbc-f7901c07c9a5"
      },
      "outputs": [],
      "source": [
        "# specify the path with the subfolders of cleaned eye images\n",
        "clean_path = '/content/drive/MyDrive/cleaned_eye_images/'\n",
        "\n",
        "# make a dictionary of eye conditions and integers because y needs to be a number, not a string\n",
        "# setting the condition to be 1 so that 'positive' results mean the eye has the condition\n",
        "condition_dict = {'cataracts':1, 'normal': 0}\n",
        "\n",
        "# make empty lists for X and y\n",
        "X=[]\n",
        "y=[]\n",
        "\n",
        "# iterate through each subfolder (= condition)\n",
        "for condition in os.listdir(clean_path):\n",
        "    \n",
        "    # make sure the subfolder is actually the name of a condition (e.g., not 'DS_Store')\n",
        "    if condition in condition_dict.keys():\n",
        "        \n",
        "        # allows you to specify how many images to collect from each folder\n",
        "        # this allows the final number to be divisible by the desired batch size\n",
        "        number=0\n",
        "        total_num = 468\n",
        "        \n",
        "        # iterate through each image file in the subfolder\n",
        "        for file in os.listdir(clean_path+condition):\n",
        "            \n",
        "            if number < total_num:\n",
        "            \n",
        "            # added a try/except so that DS_Store files don't trip an error\n",
        "                try:\n",
        "                    # load the image file\n",
        "                    image = load_img(clean_path+condition+'/'+file)\n",
        "                   \n",
        "                    # turn the image into an array\n",
        "                    image_arr = img_to_array(image)\n",
        "                \n",
        "                    # add the image array to X\n",
        "                    X.append(image_arr)\n",
        "                \n",
        "                    # use the condition_dict to add the right number to y that corresponds to the eye condition\n",
        "                    y.append(condition_dict[condition])\n",
        "                    \n",
        "                    number+=1\n",
        "                \n",
        "                except:\n",
        "                    continue"
      ]
    },
    {
      "cell_type": "code",
      "execution_count": null,
      "id": "88b02733-4474-462d-b925-33ae0685ad00",
      "metadata": {
        "id": "88b02733-4474-462d-b925-33ae0685ad00"
      },
      "outputs": [],
      "source": [
        "# change X and y into numpy arrays\n",
        "X = np.array(X)\n",
        "y = np.array(y)"
      ]
    },
    {
      "cell_type": "code",
      "execution_count": null,
      "id": "8f987109-7dd2-43a3-9b5e-13f886ddc3fc",
      "metadata": {
        "colab": {
          "base_uri": "https://localhost:8080/"
        },
        "id": "8f987109-7dd2-43a3-9b5e-13f886ddc3fc",
        "outputId": "09725a7a-b61b-4236-e4ec-277a5e95231b"
      },
      "outputs": [
        {
          "output_type": "execute_result",
          "data": {
            "text/plain": [
              "(768, 512, 512, 3)"
            ]
          },
          "metadata": {},
          "execution_count": 6
        }
      ],
      "source": [
        "# checking the shape of X\n",
        "# there are 768 512x512 images with 3 channels (RGB)\n",
        "X.shape"
      ]
    },
    {
      "cell_type": "code",
      "execution_count": null,
      "id": "733962dd-2e80-4dd8-a8b8-77bfc3d8806e",
      "metadata": {
        "colab": {
          "base_uri": "https://localhost:8080/"
        },
        "id": "733962dd-2e80-4dd8-a8b8-77bfc3d8806e",
        "outputId": "286f0bc6-23bd-4725-ee8d-4719dbaa109a"
      },
      "outputs": [
        {
          "output_type": "execute_result",
          "data": {
            "text/plain": [
              "(768,)"
            ]
          },
          "metadata": {},
          "execution_count": 7
        }
      ],
      "source": [
        "# y matches the number of images in X\n",
        "y.shape"
      ]
    },
    {
      "cell_type": "markdown",
      "id": "8c695f4c-fec2-4daa-8b6c-bac4b42f7fb5",
      "metadata": {
        "id": "8c695f4c-fec2-4daa-8b6c-bac4b42f7fb5"
      },
      "source": [
        "### Baseline Model\n",
        "Our dataset is unevenly distributed between normal eyes and eyes with cataracts, and the model needs to make correct predictions more than 60.9% of the time to beat the baseline."
      ]
    },
    {
      "cell_type": "code",
      "execution_count": null,
      "id": "a64c2897-05c8-45ff-a8f4-76216601e05d",
      "metadata": {
        "colab": {
          "base_uri": "https://localhost:8080/"
        },
        "id": "a64c2897-05c8-45ff-a8f4-76216601e05d",
        "outputId": "71c4aeb7-f131-4336-b18d-b9cce3327351"
      },
      "outputs": [
        {
          "output_type": "stream",
          "name": "stdout",
          "text": [
            "There are 300 non-diseased eye images and 468 images of eyes with cataracts in the dataset.\n",
            "This gives a baseline accuracy of 0.609\n"
          ]
        }
      ],
      "source": [
        "print(f'There are {len(y)-y.sum()} non-diseased eye images and {y.sum()} images of eyes with cataracts in the dataset.')\n",
        "\n",
        "# Since y is binary with values of 0 and 1, the baseline accuracy can be found by summing y and dividing by the length of y\n",
        "# The baseline accuracy is the higher of this value and 1 - this value\n",
        "# rounding the numbers to 3 places to make the formatting nicer\n",
        "print(f'This gives a baseline accuracy of {round(np.array([(y.sum() / len(y)),(1-(y.sum()/len(y)))]).max(), 3)}')"
      ]
    },
    {
      "cell_type": "markdown",
      "id": "164e147d-db8f-41b7-b481-2bae672c7c55",
      "metadata": {
        "id": "164e147d-db8f-41b7-b481-2bae672c7c55"
      },
      "source": [
        "### Train-Test Split"
      ]
    },
    {
      "cell_type": "code",
      "execution_count": null,
      "id": "943563d9-49f4-4888-8331-27f9407112a4",
      "metadata": {
        "id": "943563d9-49f4-4888-8331-27f9407112a4"
      },
      "outputs": [],
      "source": [
        "# regular train-test-split \n",
        "# no need for StandardScaler because the images have already been normalized\n",
        "\n",
        "# changed test_size to 128 so test and train sizes are both divisible by 64, the batch_size\n",
        "# to use with image augmentation\n",
        "X_train, X_test, y_train, y_test = train_test_split(X, y, test_size=128, random_state=42, stratify=y)"
      ]
    },
    {
      "cell_type": "code",
      "execution_count": null,
      "id": "3d49ffa5-fa42-4272-be33-965cc9930b79",
      "metadata": {
        "colab": {
          "base_uri": "https://localhost:8080/"
        },
        "id": "3d49ffa5-fa42-4272-be33-965cc9930b79",
        "outputId": "b7065591-a1af-433f-a70f-cc44fe39fac5"
      },
      "outputs": [
        {
          "output_type": "execute_result",
          "data": {
            "text/plain": [
              "(640, 512, 512, 3)"
            ]
          },
          "metadata": {},
          "execution_count": 10
        }
      ],
      "source": [
        "X_train.shape"
      ]
    },
    {
      "cell_type": "markdown",
      "id": "1d7839fb-ddb6-4fcc-9649-af1dc8869f89",
      "metadata": {
        "id": "1d7839fb-ddb6-4fcc-9649-af1dc8869f89"
      },
      "source": [
        "### Image Augmentation "
      ]
    },
    {
      "cell_type": "code",
      "execution_count": null,
      "id": "a922fc48-3022-4b6b-9be3-aae4511b3fac",
      "metadata": {
        "id": "a922fc48-3022-4b6b-9be3-aae4511b3fac"
      },
      "outputs": [],
      "source": [
        "# creating the same ImageDataGenerators as the ones made in the Glaucoma model\n",
        "\n",
        "image_generator_train = ImageDataGenerator(rescale=1.0/255.0, horizontal_flip=True, rotation_range=30, brightness_range=(.8,1.2))\n",
        "image_generator_test = ImageDataGenerator(rescale=1.0/255.0)\n",
        "image_generator_train.fit(X_train)"
      ]
    },
    {
      "cell_type": "markdown",
      "id": "776dd38a-1bde-4403-9502-33d18d2c2dc1",
      "metadata": {
        "id": "776dd38a-1bde-4403-9502-33d18d2c2dc1"
      },
      "source": [
        "### Building the CNN Model"
      ]
    },
    {
      "cell_type": "code",
      "execution_count": null,
      "id": "6baaeb65-65c3-417c-b882-56e3bc73d13d",
      "metadata": {
        "id": "6baaeb65-65c3-417c-b882-56e3bc73d13d"
      },
      "outputs": [],
      "source": [
        "# Instantiate a Sequential model (that will process each layer sequentially)\n",
        "model = Sequential()"
      ]
    },
    {
      "cell_type": "code",
      "execution_count": null,
      "id": "207bcbf3-ec8f-4d3c-a8a8-2f9abc454857",
      "metadata": {
        "id": "207bcbf3-ec8f-4d3c-a8a8-2f9abc454857"
      },
      "outputs": [],
      "source": [
        "# add a Convolutional 2D layer that will create 16 3x3 filters to detect image features\n",
        "\n",
        "model.add(Conv2D(16, (3,3), activation='relu', input_shape=(512,512,3)))"
      ]
    },
    {
      "cell_type": "code",
      "execution_count": null,
      "id": "2267b39c-9f9a-4740-b6dd-faccf985ed14",
      "metadata": {
        "id": "2267b39c-9f9a-4740-b6dd-faccf985ed14"
      },
      "outputs": [],
      "source": [
        "# add a MaxPooling 2D layer that will take the maximum value in every 2x2 grid (with a stride defaulting to the pool_size)\n",
        "# this effectively cuts the dimensions of the data in half, and helps get rid of noise caused by small variations in the image\n",
        "\n",
        "model.add(MaxPooling2D(pool_size=(2,2)))"
      ]
    },
    {
      "cell_type": "code",
      "execution_count": null,
      "id": "476205ad-de18-4027-b8c5-0f180d94c004",
      "metadata": {
        "id": "476205ad-de18-4027-b8c5-0f180d94c004"
      },
      "outputs": [],
      "source": [
        "# add more convolutional layers (with max pooling between each one) \n",
        "\n",
        "# increasing filters to 32\n",
        "# input shape is only needed for the first layer above\n",
        "model.add(Conv2D(32, (3,3), activation='relu'))\n",
        "model.add(MaxPooling2D((2,2)))\n",
        "\n",
        "model.add(Conv2D(32, (3,3), activation='relu'))\n",
        "model.add(MaxPooling2D((2,2)))\n",
        "\n",
        "# increasing filters to 64\n",
        "model.add(Conv2D(64, (3,3), activation='relu'))\n",
        "model.add(MaxPooling2D((2,2)))"
      ]
    },
    {
      "cell_type": "code",
      "execution_count": null,
      "id": "7a2dea11-4860-481f-8355-c9044640a48c",
      "metadata": {
        "id": "7a2dea11-4860-481f-8355-c9044640a48c"
      },
      "outputs": [],
      "source": [
        "# add a flatten layer to bridge between the convolutional layers and the dense layers\n",
        "model.add(Flatten())"
      ]
    },
    {
      "cell_type": "code",
      "execution_count": null,
      "id": "6dbb87d6-f17c-4068-9020-45982992a2dd",
      "metadata": {
        "id": "6dbb87d6-f17c-4068-9020-45982992a2dd"
      },
      "outputs": [],
      "source": [
        "# the dense layers analyze the features that were identified in the convolutional layers \n",
        "model.add(Dense(256, activation='relu'))\n",
        "model.add(Dense(256, activation='relu'))"
      ]
    },
    {
      "cell_type": "code",
      "execution_count": null,
      "id": "987b4e18-8c1b-4966-8901-0fe58b61f989",
      "metadata": {
        "id": "987b4e18-8c1b-4966-8901-0fe58b61f989"
      },
      "outputs": [],
      "source": [
        "# add the output layer with sigmoid activatin since it's a binary classification\n",
        "model.add(Dense(1, activation='sigmoid'))"
      ]
    },
    {
      "cell_type": "code",
      "execution_count": null,
      "id": "f22ff4cb-96d0-49c3-b77b-a77f79804193",
      "metadata": {
        "id": "f22ff4cb-96d0-49c3-b77b-a77f79804193"
      },
      "outputs": [],
      "source": [
        "# compile the model using binary_crossentropy, accuracy metrics, and the adam optimizer\n",
        "model.compile(loss='binary_crossentropy', metrics=['accuracy'], optimizer='adam')"
      ]
    },
    {
      "cell_type": "markdown",
      "id": "560a3217-f61f-47ba-8696-543c6acf28ba",
      "metadata": {
        "id": "560a3217-f61f-47ba-8696-543c6acf28ba"
      },
      "source": [
        "### Fitting the Model\n",
        "\n",
        "The model is the same as the model used for glaucoma and diabetic retinopathy, with the minor adjustment of altering the min_delta of the EarlyStopping callback so that the model would run for more epochs. This was done because the other two models appeared to stop too early -- the models were not improving much, but they also weren't overfit and it was unclear if the model could still improve with more training."
      ]
    },
    {
      "cell_type": "code",
      "execution_count": null,
      "id": "6c22078e-bee0-4f13-844c-52e9abd1c37e",
      "metadata": {
        "id": "6c22078e-bee0-4f13-844c-52e9abd1c37e"
      },
      "outputs": [],
      "source": [
        "# add early stopping\n",
        "\n",
        "# changing the min_delta to .001 instead of .01 to see what happens when the model doesn't stop so early\n",
        "# this is the only change between this model and the Glaucoma and Diabetic Retinopathy models (aside from the inputs)\n",
        "\n",
        "early_stop = EarlyStopping(monitor='val_loss', min_delta=.001, patience=5, verbose=1, mode='auto')"
      ]
    },
    {
      "cell_type": "code",
      "execution_count": null,
      "id": "61749c92-481b-44c0-b03c-1d799c0038fd",
      "metadata": {
        "colab": {
          "base_uri": "https://localhost:8080/"
        },
        "id": "61749c92-481b-44c0-b03c-1d799c0038fd",
        "outputId": "cd22ab26-8a38-40ca-c7d4-70520d9546e7"
      },
      "outputs": [
        {
          "output_type": "stream",
          "name": "stdout",
          "text": [
            "Epoch 1/30\n",
            "20/20 [==============================] - 55s 2s/step - loss: 0.5178 - accuracy: 0.7125 - val_loss: 0.1981 - val_accuracy: 0.9375\n",
            "Epoch 2/30\n",
            "20/20 [==============================] - 43s 2s/step - loss: 0.3128 - accuracy: 0.8813 - val_loss: 0.1548 - val_accuracy: 0.9531\n",
            "Epoch 3/30\n",
            "20/20 [==============================] - 42s 2s/step - loss: 0.2728 - accuracy: 0.8875 - val_loss: 0.1726 - val_accuracy: 0.9531\n",
            "Epoch 4/30\n",
            "20/20 [==============================] - 42s 2s/step - loss: 0.2466 - accuracy: 0.9031 - val_loss: 0.1439 - val_accuracy: 0.9531\n",
            "Epoch 5/30\n",
            "20/20 [==============================] - 45s 2s/step - loss: 0.2205 - accuracy: 0.9187 - val_loss: 0.1481 - val_accuracy: 0.9531\n",
            "Epoch 6/30\n",
            "20/20 [==============================] - 42s 2s/step - loss: 0.2309 - accuracy: 0.9031 - val_loss: 0.1484 - val_accuracy: 0.9453\n",
            "Epoch 7/30\n",
            "20/20 [==============================] - 43s 2s/step - loss: 0.2112 - accuracy: 0.9234 - val_loss: 0.1403 - val_accuracy: 0.9375\n",
            "Epoch 8/30\n",
            "20/20 [==============================] - 42s 2s/step - loss: 0.1701 - accuracy: 0.9359 - val_loss: 0.1259 - val_accuracy: 0.9531\n",
            "Epoch 9/30\n",
            "20/20 [==============================] - 42s 2s/step - loss: 0.1716 - accuracy: 0.9312 - val_loss: 0.1601 - val_accuracy: 0.9531\n",
            "Epoch 10/30\n",
            "20/20 [==============================] - 43s 2s/step - loss: 0.1729 - accuracy: 0.9266 - val_loss: 0.1243 - val_accuracy: 0.9531\n",
            "Epoch 11/30\n",
            "20/20 [==============================] - 43s 2s/step - loss: 0.1881 - accuracy: 0.9328 - val_loss: 0.1549 - val_accuracy: 0.9453\n",
            "Epoch 12/30\n",
            "20/20 [==============================] - 42s 2s/step - loss: 0.1641 - accuracy: 0.9344 - val_loss: 0.1467 - val_accuracy: 0.9688\n",
            "Epoch 13/30\n",
            "20/20 [==============================] - 42s 2s/step - loss: 0.1491 - accuracy: 0.9484 - val_loss: 0.1144 - val_accuracy: 0.9609\n",
            "Epoch 14/30\n",
            "20/20 [==============================] - 42s 2s/step - loss: 0.1265 - accuracy: 0.9609 - val_loss: 0.0825 - val_accuracy: 0.9609\n",
            "Epoch 15/30\n",
            "20/20 [==============================] - 43s 2s/step - loss: 0.1383 - accuracy: 0.9484 - val_loss: 0.0818 - val_accuracy: 0.9766\n",
            "Epoch 16/30\n",
            "20/20 [==============================] - 42s 2s/step - loss: 0.1201 - accuracy: 0.9531 - val_loss: 0.0999 - val_accuracy: 0.9688\n",
            "Epoch 17/30\n",
            "20/20 [==============================] - 43s 2s/step - loss: 0.1368 - accuracy: 0.9484 - val_loss: 0.1030 - val_accuracy: 0.9531\n",
            "Epoch 18/30\n",
            "20/20 [==============================] - 42s 2s/step - loss: 0.1576 - accuracy: 0.9312 - val_loss: 0.0983 - val_accuracy: 0.9844\n",
            "Epoch 19/30\n",
            "20/20 [==============================] - 42s 2s/step - loss: 0.1324 - accuracy: 0.9453 - val_loss: 0.1325 - val_accuracy: 0.9375\n",
            "Epoch 19: early stopping\n"
          ]
        }
      ],
      "source": [
        "# fit the model and save it as h so the accuracy and loss scores for each epoch can be visualized\n",
        "\n",
        "# use a batch size be divisible by the number of images in X_train\n",
        "h = model.fit(image_generator_train.flow(X_train, y_train, batch_size=32, seed=42), validation_data=(image_generator_test.flow(X_test, y_test, batch_size=32, seed=42)), steps_per_epoch=len(X_train)/32, epochs=30, callbacks=[early_stop])"
      ]
    },
    {
      "cell_type": "markdown",
      "id": "f4038efa-c62e-4a36-b044-652eccb55eb4",
      "metadata": {
        "id": "f4038efa-c62e-4a36-b044-652eccb55eb4"
      },
      "source": [
        "### Saving the Model"
      ]
    },
    {
      "cell_type": "code",
      "execution_count": null,
      "id": "c93aae34-835f-4dfb-adf3-c0fb2492b7b4",
      "metadata": {
        "id": "c93aae34-835f-4dfb-adf3-c0fb2492b7b4"
      },
      "outputs": [],
      "source": [
        "# code to save the model as an h5 file so that it can be used in Flask\n",
        "\n",
        "# commenting out the code so it doesn't run again by accident\n",
        "model.save(\"/content/drive/MyDrive/FINAL MODELS/CATARACT/cataract_model.h5\")"
      ]
    },
    {
      "cell_type": "markdown",
      "id": "501cd77b-cb33-4491-88c5-87793dc81b46",
      "metadata": {
        "id": "501cd77b-cb33-4491-88c5-87793dc81b46"
      },
      "source": [
        "### Visualizing the accuracy and loss scores for each epoch"
      ]
    },
    {
      "cell_type": "code",
      "execution_count": null,
      "id": "b2cb73c0-a7f0-4ba2-a129-a20609331cd5",
      "metadata": {
        "colab": {
          "base_uri": "https://localhost:8080/",
          "height": 308
        },
        "id": "b2cb73c0-a7f0-4ba2-a129-a20609331cd5",
        "outputId": "9d6b44a4-67f1-4cae-e165-ae990f10dcdc"
      },
      "outputs": [
        {
          "output_type": "display_data",
          "data": {
            "text/plain": [
              "<Figure size 936x288 with 2 Axes>"
            ],
            "image/png": "[encoded data removed]"
          },
          "metadata": {
            "needs_background": "light"
          }
        }
      ],
      "source": [
        "fig, axs = plt.subplots(1, 2, figsize=(13,4))\n",
        "\n",
        "fig.suptitle('Detecting Cataracts')\n",
        "\n",
        "# plot training and testing accuracy\n",
        "axs[0].plot(h.history['accuracy'], label='Training Accuracy')\n",
        "axs[0].plot(h.history['val_accuracy'], label='Testing Accuracy')\n",
        "\n",
        "# add titles, labels, and tick formatting \n",
        "axs[0].set_title('Model Accuracy For Successive Epochs')\n",
        "axs[0].set_xlabel('Epoch')\n",
        "axs[0].set_xticks(ticks=range(0,22))\n",
        "axs[0].set_xticklabels(labels=range(1,23))\n",
        "axs[0].set_ylabel('Accuracy')\n",
        "axs[0].set_ylim(.5,1)\n",
        "\n",
        "# add a legend\n",
        "axs[0].legend()\n",
        "\n",
        "# plot training and testing loss\n",
        "axs[1].plot(h.history['loss'], label='Training Loss')\n",
        "axs[1].plot(h.history['val_loss'], label='Testing Loss')\n",
        "\n",
        "# add titles, labels, and tick formatting\n",
        "axs[1].set_title('Model Loss For Successive Epochs')\n",
        "axs[1].set_xlabel('Epoch')\n",
        "axs[1].set_xticks(ticks=range(0,22))\n",
        "axs[1].set_xticklabels(labels=range(1,23))\n",
        "axs[1].set_ylabel('Loss')\n",
        "axs[1].set_ylim(0,1)\n",
        "\n",
        "# add a legend\n",
        "axs[1].legend();\n"
      ]
    },
    {
      "cell_type": "markdown",
      "id": "fd4386aa-9f0c-4cdf-9480-02fb886ed8b1",
      "metadata": {
        "id": "fd4386aa-9f0c-4cdf-9480-02fb886ed8b1"
      },
      "source": [
        "### Making a Confusion Matrix"
      ]
    },
    {
      "cell_type": "code",
      "execution_count": null,
      "id": "a1b15738-5e8b-4b14-bea1-56e3e5d93269",
      "metadata": {
        "colab": {
          "base_uri": "https://localhost:8080/"
        },
        "id": "a1b15738-5e8b-4b14-bea1-56e3e5d93269",
        "outputId": "8fbe230a-2b28-4184-f10e-9e2f4caa5aa2"
      },
      "outputs": [
        {
          "output_type": "stream",
          "name": "stdout",
          "text": [
            "4/4 [==============================] - 1s 223ms/step\n"
          ]
        }
      ],
      "source": [
        "# generate predictions from X_test\n",
        "# in order to generate predictions correctly, the X_test images need to be fed to model.predict through\n",
        "# image_generator_test with shuffle set to False\n",
        "preds = model.predict(image_generator_test.flow(X_test, shuffle=False))"
      ]
    },
    {
      "cell_type": "code",
      "execution_count": null,
      "id": "781b4a83-42da-4759-8c4c-a7a49d06a9b0",
      "metadata": {
        "tags": [],
        "id": "781b4a83-42da-4759-8c4c-a7a49d06a9b0"
      },
      "outputs": [],
      "source": [
        "# change predictions from probabilities to 0s and 1s\n",
        "preds = [int(np.round(x)) for x in preds]"
      ]
    },
    {
      "cell_type": "code",
      "execution_count": null,
      "id": "b1c2603f-b7c1-40ec-8cb8-491602190c46",
      "metadata": {
        "id": "b1c2603f-b7c1-40ec-8cb8-491602190c46",
        "colab": {
          "base_uri": "https://localhost:8080/"
        },
        "outputId": "b8312972-c08f-42a7-a04f-bca5cd8c6df6"
      },
      "outputs": [
        {
          "output_type": "stream",
          "name": "stdout",
          "text": [
            "[0, 0, 1, 1, 1, 0, 0, 1, 1, 1, 1, 1, 0, 0, 1, 1, 0, 1, 1, 1, 0, 0, 1, 1, 1, 0, 0, 0, 1, 0, 0, 0, 1, 0, 1, 1, 1, 0, 1, 1, 0, 1, 1, 0, 1, 1, 1, 0, 1, 1, 0, 1, 1, 1, 1, 1, 0, 1, 1, 1, 1, 1, 0, 1, 1, 0, 1, 1, 0, 1, 1, 1, 1, 1, 0, 0, 1, 0, 0, 1, 1, 0, 1, 1, 1, 1, 1, 0, 0, 1, 0, 0, 1, 1, 0, 0, 1, 1, 0, 1, 0, 1, 0, 0, 1, 0, 1, 1, 0, 1, 0, 1, 1, 1, 1, 0, 1, 0, 1, 1, 1, 1, 1, 1, 1, 1, 1, 0]\n"
          ]
        }
      ],
      "source": [
        "print(preds)"
      ]
    },
    {
      "cell_type": "code",
      "execution_count": null,
      "id": "1e727512-107d-4d8c-8100-f02e6deae495",
      "metadata": {
        "id": "1e727512-107d-4d8c-8100-f02e6deae495",
        "colab": {
          "base_uri": "https://localhost:8080/"
        },
        "outputId": "d92d1abe-3011-4989-9d14-3c73ae503edd"
      },
      "outputs": [
        {
          "output_type": "execute_result",
          "data": {
            "text/plain": [
              "array([0, 0, 1, 1, 0, 0, 0, 1, 1, 1, 1, 1, 0, 0, 1, 1, 0, 1, 1, 1, 0, 0,\n",
              "       1, 1, 1, 0, 0, 0, 1, 0, 0, 0, 1, 0, 1, 1, 1, 0, 1, 1, 0, 1, 1, 0,\n",
              "       1, 1, 1, 0, 1, 1, 0, 1, 1, 1, 1, 1, 0, 1, 1, 1, 1, 1, 0, 1, 1, 0,\n",
              "       1, 1, 0, 1, 1, 1, 1, 1, 0, 0, 1, 0, 1, 1, 1, 0, 0, 1, 1, 1, 0, 0,\n",
              "       0, 1, 0, 0, 1, 1, 0, 0, 1, 1, 1, 1, 0, 0, 0, 0, 1, 0, 1, 1, 0, 0,\n",
              "       0, 0, 1, 1, 1, 0, 1, 0, 1, 1, 1, 1, 1, 1, 1, 1, 1, 0])"
            ]
          },
          "metadata": {},
          "execution_count": 27
        }
      ],
      "source": [
        "y_test"
      ]
    },
    {
      "cell_type": "code",
      "execution_count": null,
      "id": "6b2d22eb-944e-4b02-83d0-4af555ad53f1",
      "metadata": {
        "id": "6b2d22eb-944e-4b02-83d0-4af555ad53f1",
        "colab": {
          "base_uri": "https://localhost:8080/"
        },
        "outputId": "c7e0b6d8-116f-4992-fc9b-1ca1403289db"
      },
      "outputs": [
        {
          "output_type": "execute_result",
          "data": {
            "text/plain": [
              "78"
            ]
          },
          "metadata": {},
          "execution_count": 28
        }
      ],
      "source": [
        "y_test.sum()"
      ]
    },
    {
      "cell_type": "code",
      "execution_count": null,
      "id": "18c2addf-7e56-4cb4-8c9d-811cf997d3e0",
      "metadata": {
        "id": "18c2addf-7e56-4cb4-8c9d-811cf997d3e0",
        "colab": {
          "base_uri": "https://localhost:8080/",
          "height": 279
        },
        "outputId": "20a9dc90-d7c3-432a-c304-fbd380ff1143"
      },
      "outputs": [
        {
          "output_type": "display_data",
          "data": {
            "text/plain": [
              "<Figure size 432x288 with 2 Axes>"
            ],
            "image/png": "[encoded data removed]"
          },
          "metadata": {
            "needs_background": "light"
          }
        }
      ],
      "source": [
        "# make and display a confusion matrix\n",
        "conf_matrix = confusion_matrix(y_test, preds)\n",
        "ConfusionMatrixDisplay(confusion_matrix=conf_matrix, display_labels=['Normal', 'Cataracts']).plot();"
      ]
    },
    {
      "cell_type": "code",
      "execution_count": null,
      "id": "2efd9ce5-4f06-4a1a-bf41-94852308c24a",
      "metadata": {
        "id": "2efd9ce5-4f06-4a1a-bf41-94852308c24a",
        "colab": {
          "base_uri": "https://localhost:8080/"
        },
        "outputId": "0fdf3b14-ed8b-4bff-c1cc-55d92caa5c7f"
      },
      "outputs": [
        {
          "output_type": "stream",
          "name": "stdout",
          "text": [
            "              precision    recall  f1-score   support\n",
            "\n",
            "           0       0.96      0.88      0.92        50\n",
            "           1       0.93      0.97      0.95        78\n",
            "\n",
            "    accuracy                           0.94       128\n",
            "   macro avg       0.94      0.93      0.93       128\n",
            "weighted avg       0.94      0.94      0.94       128\n",
            "\n"
          ]
        }
      ],
      "source": [
        "# display the classification report\n",
        "print(classification_report(y_test, preds))"
      ]
    }
  ],
  "metadata": {
    "kernelspec": {
      "display_name": "Python 3",
      "language": "python",
      "name": "python3"
    },
    "language_info": {
      "codemirror_mode": {
        "name": "ipython",
        "version": 3
      },
      "file_extension": ".py",
      "mimetype": "text/x-python",
      "name": "python",
      "nbconvert_exporter": "python",
      "pygments_lexer": "ipython3",
      "version": "3.8.8"
    },
    "colab": {
      "provenance": []
    },
    "gpuClass": "standard",
    "accelerator": "GPU"
  },
  "nbformat": 4,
  "nbformat_minor": 5
}