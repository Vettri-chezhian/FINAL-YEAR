{
  "cells": [
    {
      "cell_type": "markdown",
      "metadata": {
        "id": "38f54474-6355-42b1-8c8d-a531822c58b1"
      },
      "source": [
        "## CNN Model with Image Augmentation: Detecting Diabetic Retinopathy\n"
      ],
      "id": "38f54474-6355-42b1-8c8d-a531822c58b1"
    },
    {
      "cell_type": "markdown",
      "metadata": {
        "id": "8746ce63-2a24-4ab9-af10-d5699cd6c006"
      },
      "source": [
        "### Imports "
      ],
      "id": "8746ce63-2a24-4ab9-af10-d5699cd6c006"
    },
    {
      "cell_type": "code",
      "execution_count": null,
      "metadata": {
        "id": "e0953519-4400-4eb6-8063-e37a3922e47b"
      },
      "outputs": [],
      "source": [
        "import matplotlib.pyplot as plt\n",
        "import numpy as np\n",
        "import os\n",
        "import pandas as pd\n",
        "\n",
        "from tensorflow.keras.layers import Dense, Dropout, Flatten, Conv2D, MaxPooling2D\n",
        "from tensorflow.keras.models import Sequential, Model\n",
        "from tensorflow.keras.preprocessing.image import img_to_array, load_img, ImageDataGenerator\n",
        "from tensorflow.keras.callbacks import EarlyStopping\n",
        "\n",
        "from sklearn.model_selection import train_test_split\n",
        "from sklearn.metrics import confusion_matrix, ConfusionMatrixDisplay, classification_report"
      ],
      "id": "e0953519-4400-4eb6-8063-e37a3922e47b"
    },
    {
      "cell_type": "code",
      "execution_count": null,
      "metadata": {
        "id": "c2c89846-21e1-4313-9517-e6ee4f354058"
      },
      "outputs": [],
      "source": [
        "# setting a random seed for reproducibility\n",
        "np.random.seed(42)"
      ],
      "id": "c2c89846-21e1-4313-9517-e6ee4f354058"
    },
    {
      "cell_type": "markdown",
      "metadata": {
        "id": "663277fd-f709-4b4f-942f-ccd6373ac0b4"
      },
      "source": [
        "### Reading in image data as X and y"
      ],
      "id": "663277fd-f709-4b4f-942f-ccd6373ac0b4"
    },
    {
      "cell_type": "code",
      "execution_count": null,
      "metadata": {
        "id": "0b4c9d01-320a-4a00-8bbc-f7901c07c9a5"
      },
      "outputs": [],
      "source": [
        "# specify the path with the subfolders of cleaned eye images \n",
        "clean_path = '/content/drive/MyDrive/cleaned_eye_images/'\n",
        "\n",
        "# make a dictionary of eye conditions and integers because the target y needs to be a number, not a string\n",
        "# setting the condition to be 1 so that 'positive' results mean the eye has the condition\n",
        "condition_dict = {'retinopathy':1, 'normal': 0}\n",
        "\n",
        "# make empty lists for X and y\n",
        "X=[]\n",
        "y=[]\n",
        "\n",
        "# iterate through each subfolder (= condition)\n",
        "for condition in os.listdir(clean_path):\n",
        "    \n",
        "    # make sure the subfolder is actually the name of a condition (e.g., not 'DS_Store')\n",
        "    if condition in condition_dict.keys():\n",
        "        \n",
        "        # allows you to specify how many images to collect from each folder\n",
        "        # this allows the final number to be divisible by the desired batch size\n",
        "        number=0\n",
        "        total_num = 468\n",
        "        \n",
        "        # iterate through each image file in the subfolder\n",
        "        for file in os.listdir(clean_path+condition):\n",
        "            \n",
        "            if number < total_num:\n",
        "            \n",
        "            # added a try/except so that DS_Store files don't trip an error\n",
        "                try:\n",
        "                    # load the image file\n",
        "                    image = load_img(clean_path+condition+'/'+file)\n",
        "                    \n",
        "                    # turn the image into an array\n",
        "                    image_arr = img_to_array(image)\n",
        "                \n",
        "                    # add the image array to X\n",
        "                    X.append(image_arr)\n",
        "                \n",
        "                    # use the condition_dict to add the right number to y that corresponds to the eye condition\n",
        "                    y.append(condition_dict[condition])\n",
        "                    \n",
        "                    number+=1\n",
        "                \n",
        "                except:\n",
        "                    continue"
      ],
      "id": "0b4c9d01-320a-4a00-8bbc-f7901c07c9a5"
    },
    {
      "cell_type": "code",
      "execution_count": null,
      "metadata": {
        "id": "88b02733-4474-462d-b925-33ae0685ad00"
      },
      "outputs": [],
      "source": [
        "# change X and y into numpy arrays\n",
        "X = np.array(X)\n",
        "y = np.array(y)"
      ],
      "id": "88b02733-4474-462d-b925-33ae0685ad00"
    },
    {
      "cell_type": "code",
      "execution_count": null,
      "metadata": {
        "colab": {
          "base_uri": "https://localhost:8080/"
        },
        "id": "8f987109-7dd2-43a3-9b5e-13f886ddc3fc",
        "outputId": "9a64f7cc-b138-4229-9b94-fd2e8565c9e3"
      },
      "outputs": [
        {
          "output_type": "execute_result",
          "data": {
            "text/plain": [
              "(768, 512, 512, 3)"
            ]
          },
          "metadata": {},
          "execution_count": 6
        }
      ],
      "source": [
        "# checking the shape of X\n",
        "# there are 768 512x512 images with 3 channels (RGB)\n",
        "X.shape"
      ],
      "id": "8f987109-7dd2-43a3-9b5e-13f886ddc3fc"
    },
    {
      "cell_type": "code",
      "execution_count": null,
      "metadata": {
        "colab": {
          "base_uri": "https://localhost:8080/"
        },
        "id": "733962dd-2e80-4dd8-a8b8-77bfc3d8806e",
        "outputId": "4d1b1b08-3590-49b6-dbe8-ab9cb8cea560"
      },
      "outputs": [
        {
          "output_type": "execute_result",
          "data": {
            "text/plain": [
              "(768,)"
            ]
          },
          "metadata": {},
          "execution_count": 7
        }
      ],
      "source": [
        "# y matches the number of images in X\n",
        "y.shape"
      ],
      "id": "733962dd-2e80-4dd8-a8b8-77bfc3d8806e"
    },
    {
      "cell_type": "markdown",
      "metadata": {
        "id": "8c695f4c-fec2-4daa-8b6c-bac4b42f7fb5"
      },
      "source": [
        "### Baseline Model\n",
        "Our dataset is unevenly distributed between normal eyes and eyes with diabetic retinopathy, and the model needs to make correct predictions more than 60.9% of the time to beat the baseline."
      ],
      "id": "8c695f4c-fec2-4daa-8b6c-bac4b42f7fb5"
    },
    {
      "cell_type": "code",
      "execution_count": null,
      "metadata": {
        "colab": {
          "base_uri": "https://localhost:8080/"
        },
        "id": "a64c2897-05c8-45ff-a8f4-76216601e05d",
        "outputId": "564a4a39-dae7-481c-ea7e-f9037cac8b25"
      },
      "outputs": [
        {
          "output_type": "stream",
          "name": "stdout",
          "text": [
            "There are 300 non-diseased eye images and 468 images of eyes with diabetic retinopathy in the dataset.\n",
            "This gives a baseline accuracy of 0.609\n"
          ]
        }
      ],
      "source": [
        "print(f'There are {len(y)-y.sum()} non-diseased eye images and {y.sum()} images of eyes with diabetic retinopathy in the dataset.')\n",
        "\n",
        "# Since y is binary with values of 0 and 1, the baseline accuracy can be found by summing y and dividing by the length of y\n",
        "# The baseline accuracy is the higher of this value and 1 - this value\n",
        "# rounding the numbers to 3 places to make the formatting nicer\n",
        "print(f'This gives a baseline accuracy of {round(np.array([(y.sum() / len(y)),(1-(y.sum()/len(y)))]).max(), 3)}')"
      ],
      "id": "a64c2897-05c8-45ff-a8f4-76216601e05d"
    },
    {
      "cell_type": "markdown",
      "metadata": {
        "id": "164e147d-db8f-41b7-b481-2bae672c7c55"
      },
      "source": [
        "### Train-Test Split"
      ],
      "id": "164e147d-db8f-41b7-b481-2bae672c7c55"
    },
    {
      "cell_type": "code",
      "execution_count": null,
      "metadata": {
        "id": "943563d9-49f4-4888-8331-27f9407112a4"
      },
      "outputs": [],
      "source": [
        "# regular train-test-split \n",
        "# no need for StandardScaler because the images have already been normalized\n",
        "\n",
        "# using a test_size of 128 so test and train sizes are both divisible by 32, the batch_size\n",
        "# to use with image augmentation\n",
        "X_train, X_test, y_train, y_test = train_test_split(X, y, test_size=128, random_state=42, stratify=y)"
      ],
      "id": "943563d9-49f4-4888-8331-27f9407112a4"
    },
    {
      "cell_type": "code",
      "execution_count": null,
      "metadata": {
        "colab": {
          "base_uri": "https://localhost:8080/"
        },
        "id": "3d49ffa5-fa42-4272-be33-965cc9930b79",
        "outputId": "865f3805-2687-4555-e4fe-ea976ac8a10d"
      },
      "outputs": [
        {
          "output_type": "execute_result",
          "data": {
            "text/plain": [
              "(640, 512, 512, 3)"
            ]
          },
          "metadata": {},
          "execution_count": 10
        }
      ],
      "source": [
        "X_train.shape"
      ],
      "id": "3d49ffa5-fa42-4272-be33-965cc9930b79"
    },
    {
      "cell_type": "markdown",
      "metadata": {
        "id": "1d7839fb-ddb6-4fcc-9649-af1dc8869f89"
      },
      "source": [
        "### Image Augmentation "
      ],
      "id": "1d7839fb-ddb6-4fcc-9649-af1dc8869f89"
    },
    {
      "cell_type": "code",
      "execution_count": null,
      "metadata": {
        "id": "a922fc48-3022-4b6b-9be3-aae4511b3fac"
      },
      "outputs": [],
      "source": [
        "# creating the same ImageDataGenerators as the ones made in the Glaucoma model\n",
        "\n",
        "image_generator_train = ImageDataGenerator(rescale=1.0/255.0, horizontal_flip=True, rotation_range=30, brightness_range=(.8,1.2))\n",
        "image_generator_test = ImageDataGenerator(rescale=1.0/255.0)\n",
        "image_generator_train.fit(X_train)"
      ],
      "id": "a922fc48-3022-4b6b-9be3-aae4511b3fac"
    },
    {
      "cell_type": "markdown",
      "metadata": {
        "id": "776dd38a-1bde-4403-9502-33d18d2c2dc1"
      },
      "source": [
        "### Building the CNN Model"
      ],
      "id": "776dd38a-1bde-4403-9502-33d18d2c2dc1"
    },
    {
      "cell_type": "code",
      "execution_count": null,
      "metadata": {
        "id": "6baaeb65-65c3-417c-b882-56e3bc73d13d"
      },
      "outputs": [],
      "source": [
        "# instantiate a Sequential model (that will process each layer sequentially)\n",
        "model = Sequential()"
      ],
      "id": "6baaeb65-65c3-417c-b882-56e3bc73d13d"
    },
    {
      "cell_type": "code",
      "execution_count": null,
      "metadata": {
        "id": "207bcbf3-ec8f-4d3c-a8a8-2f9abc454857"
      },
      "outputs": [],
      "source": [
        "# add a Convolutional 2D layer that will create 16 3x3 filters to detect image features\n",
        "model.add(Conv2D(16, (3,3), activation='relu', input_shape=(512,512,3)))"
      ],
      "id": "207bcbf3-ec8f-4d3c-a8a8-2f9abc454857"
    },
    {
      "cell_type": "code",
      "execution_count": null,
      "metadata": {
        "id": "2267b39c-9f9a-4740-b6dd-faccf985ed14"
      },
      "outputs": [],
      "source": [
        "# add a MaxPooling 2D layer that will take the maximum value in every 2x2 grid (with a stride defaulting to the pool_size)\n",
        "# this effectively cuts the dimensions of the data in half, and helps get rid of noise caused by small variations in the image\n",
        "\n",
        "model.add(MaxPooling2D(pool_size=(2,2)))"
      ],
      "id": "2267b39c-9f9a-4740-b6dd-faccf985ed14"
    },
    {
      "cell_type": "code",
      "execution_count": null,
      "metadata": {
        "id": "476205ad-de18-4027-b8c5-0f180d94c004"
      },
      "outputs": [],
      "source": [
        "# add more convolutional layers (with max pooling between each one) \n",
        "\n",
        "# increasing filters to 32\n",
        "# input shape is only needed for the first layer above\n",
        "model.add(Conv2D(32, (3,3), activation='relu'))\n",
        "model.add(MaxPooling2D((2,2)))\n",
        "\n",
        "model.add(Conv2D(32, (3,3), activation='relu'))\n",
        "model.add(MaxPooling2D((2,2)))\n",
        "\n",
        "# increasing filters to 64\n",
        "model.add(Conv2D(64, (3,3), activation='relu'))\n",
        "model.add(MaxPooling2D((2,2)))"
      ],
      "id": "476205ad-de18-4027-b8c5-0f180d94c004"
    },
    {
      "cell_type": "code",
      "execution_count": null,
      "metadata": {
        "id": "7a2dea11-4860-481f-8355-c9044640a48c"
      },
      "outputs": [],
      "source": [
        "# add a flatten layer to bridge between the convolutional layers and the dense layers\n",
        "model.add(Flatten())"
      ],
      "id": "7a2dea11-4860-481f-8355-c9044640a48c"
    },
    {
      "cell_type": "code",
      "execution_count": null,
      "metadata": {
        "id": "6dbb87d6-f17c-4068-9020-45982992a2dd"
      },
      "outputs": [],
      "source": [
        "# the dense layers analyze the features that were identified in the convolutional layers \n",
        "model.add(Dense(256, activation='relu'))\n",
        "model.add(Dense(256, activation='relu'))"
      ],
      "id": "6dbb87d6-f17c-4068-9020-45982992a2dd"
    },
    {
      "cell_type": "code",
      "execution_count": null,
      "metadata": {
        "id": "987b4e18-8c1b-4966-8901-0fe58b61f989"
      },
      "outputs": [],
      "source": [
        "# add the output layer with sigmoid activatin since it's a binary classification\n",
        "model.add(Dense(1, activation='sigmoid'))"
      ],
      "id": "987b4e18-8c1b-4966-8901-0fe58b61f989"
    },
    {
      "cell_type": "code",
      "execution_count": null,
      "metadata": {
        "id": "f22ff4cb-96d0-49c3-b77b-a77f79804193"
      },
      "outputs": [],
      "source": [
        "# compile the model using binary_crossentropy, accuracy metrics, and the adam optimizer\n",
        "model.compile(loss='binary_crossentropy', metrics=['accuracy'], optimizer='adam')"
      ],
      "id": "f22ff4cb-96d0-49c3-b77b-a77f79804193"
    },
    {
      "cell_type": "markdown",
      "metadata": {
        "id": "560a3217-f61f-47ba-8696-543c6acf28ba"
      },
      "source": [
        "### Fitting the Model"
      ],
      "id": "560a3217-f61f-47ba-8696-543c6acf28ba"
    },
    {
      "cell_type": "code",
      "execution_count": null,
      "metadata": {
        "id": "6c22078e-bee0-4f13-844c-52e9abd1c37e"
      },
      "outputs": [],
      "source": [
        "# adding early stopping\n",
        "early_stop = EarlyStopping(monitor='val_loss', min_delta=.01, patience=5, verbose=1, mode='auto')"
      ],
      "id": "6c22078e-bee0-4f13-844c-52e9abd1c37e"
    },
    {
      "cell_type": "code",
      "execution_count": null,
      "metadata": {
        "colab": {
          "base_uri": "https://localhost:8080/"
        },
        "id": "61749c92-481b-44c0-b03c-1d799c0038fd",
        "outputId": "6b15e5b9-0422-4d90-bbe7-0c5e44a05e41"
      },
      "outputs": [
        {
          "output_type": "stream",
          "name": "stdout",
          "text": [
            "Epoch 1/30\n",
            "20/20 [==============================] - 71s 3s/step - loss: 0.7241 - accuracy: 0.6062 - val_loss: 0.6203 - val_accuracy: 0.6406\n",
            "Epoch 2/30\n",
            "20/20 [==============================] - 51s 3s/step - loss: 0.4799 - accuracy: 0.7688 - val_loss: 0.2817 - val_accuracy: 0.8750\n",
            "Epoch 3/30\n",
            "20/20 [==============================] - 53s 3s/step - loss: 0.3642 - accuracy: 0.8422 - val_loss: 0.2683 - val_accuracy: 0.9141\n",
            "Epoch 4/30\n",
            "20/20 [==============================] - 49s 2s/step - loss: 0.3367 - accuracy: 0.8484 - val_loss: 0.2582 - val_accuracy: 0.9141\n",
            "Epoch 5/30\n",
            "20/20 [==============================] - 51s 3s/step - loss: 0.3486 - accuracy: 0.8516 - val_loss: 0.2268 - val_accuracy: 0.9141\n",
            "Epoch 6/30\n",
            "20/20 [==============================] - 52s 3s/step - loss: 0.3174 - accuracy: 0.8672 - val_loss: 0.2188 - val_accuracy: 0.9219\n",
            "Epoch 7/30\n",
            "20/20 [==============================] - 51s 3s/step - loss: 0.3023 - accuracy: 0.8687 - val_loss: 0.2385 - val_accuracy: 0.9219\n",
            "Epoch 8/30\n",
            "20/20 [==============================] - 51s 3s/step - loss: 0.3026 - accuracy: 0.8703 - val_loss: 0.3139 - val_accuracy: 0.8359\n",
            "Epoch 9/30\n",
            "20/20 [==============================] - 50s 3s/step - loss: 0.2865 - accuracy: 0.8609 - val_loss: 0.2223 - val_accuracy: 0.9219\n",
            "Epoch 10/30\n",
            "20/20 [==============================] - 51s 3s/step - loss: 0.2815 - accuracy: 0.8766 - val_loss: 0.2152 - val_accuracy: 0.9219\n",
            "Epoch 11/30\n",
            "20/20 [==============================] - 50s 3s/step - loss: 0.2816 - accuracy: 0.8734 - val_loss: 0.2124 - val_accuracy: 0.9219\n",
            "Epoch 12/30\n",
            "20/20 [==============================] - 51s 3s/step - loss: 0.2760 - accuracy: 0.8766 - val_loss: 0.2138 - val_accuracy: 0.9219\n",
            "Epoch 13/30\n",
            "20/20 [==============================] - 49s 2s/step - loss: 0.2801 - accuracy: 0.8734 - val_loss: 0.2269 - val_accuracy: 0.9219\n",
            "Epoch 14/30\n",
            "20/20 [==============================] - 51s 3s/step - loss: 0.2815 - accuracy: 0.8734 - val_loss: 0.2145 - val_accuracy: 0.9219\n",
            "Epoch 15/30\n",
            "20/20 [==============================] - 52s 3s/step - loss: 0.2854 - accuracy: 0.8797 - val_loss: 0.2132 - val_accuracy: 0.9219\n",
            "Epoch 15: early stopping\n"
          ]
        }
      ],
      "source": [
        "# fit the model and save it as h so the accuracy and loss scores for each epoch can be visualized\n",
        "\n",
        "# use a batch size divisible by the number of images in X_train\n",
        "h = model.fit(image_generator_train.flow(X_train, y_train, batch_size=32, seed=42), validation_data=(image_generator_test.flow(X_test, y_test, batch_size=32, seed=42)), steps_per_epoch=len(X_train)/32, epochs=30, callbacks=[early_stop])"
      ],
      "id": "61749c92-481b-44c0-b03c-1d799c0038fd"
    },
    {
      "cell_type": "markdown",
      "metadata": {
        "id": "1ae000bc-fd50-46c0-88fc-9cf9d39e1466"
      },
      "source": [
        "This model reaches 85.8% training accuracy and 90.6% testing accuracy before early stopping after 9 epochs. \n",
        "\n",
        "As with the Glaucoma detection model, it's possible that early stopping ended training too early. The training accuracy is lower than the testing accuracy, indicating the model still has room to become more accurate. However, training and testing accuracy flatten out over the final epochs, and it's unclear if more training would increase the scores."
      ],
      "id": "1ae000bc-fd50-46c0-88fc-9cf9d39e1466"
    },
    {
      "cell_type": "markdown",
      "metadata": {
        "id": "f4038efa-c62e-4a36-b044-652eccb55eb4"
      },
      "source": [
        "### Saving the Model"
      ],
      "id": "f4038efa-c62e-4a36-b044-652eccb55eb4"
    },
    {
      "cell_type": "code",
      "execution_count": null,
      "metadata": {
        "id": "c93aae34-835f-4dfb-adf3-c0fb2492b7b4"
      },
      "outputs": [],
      "source": [
        "# code to save the model as an h5 file so that it can be used in Flask\n",
        "\n",
        "# commenting out the code so it doesn't run again by accident\n",
        "model.save(\"/content/drive/MyDrive/FINAL MODELS/DIABETIC RETINOPATHY/retinopathy_model.h5\")"
      ],
      "id": "c93aae34-835f-4dfb-adf3-c0fb2492b7b4"
    },
    {
      "cell_type": "markdown",
      "metadata": {
        "id": "501cd77b-cb33-4491-88c5-87793dc81b46"
      },
      "source": [
        "### Visualizing the accuracy and loss scores for each epoch"
      ],
      "id": "501cd77b-cb33-4491-88c5-87793dc81b46"
    },
    {
      "cell_type": "code",
      "execution_count": null,
      "metadata": {
        "id": "131414e6-b158-4d8a-94f0-20860cbe2913",
        "colab": {
          "base_uri": "https://localhost:8080/",
          "height": 308
        },
        "outputId": "883f8893-3a5a-43e4-a661-6c54b7c8e782"
      },
      "outputs": [
        {
          "output_type": "display_data",
          "data": {
            "text/plain": [
              "<Figure size 936x288 with 2 Axes>"
            ],
            "image/png": "[encoded data removed]"
          },
          "metadata": {
            "needs_background": "light"
          }
        }
      ],
      "source": [
        "fig, axs = plt.subplots(1, 2, figsize=(13,4))\n",
        "\n",
        "fig.suptitle('Detecting Diabetic Retinopathy')\n",
        "\n",
        "# plot training and testing accuracy\n",
        "axs[0].plot(h.history['accuracy'], label='Training Accuracy')\n",
        "axs[0].plot(h.history['val_accuracy'], label='Testing Accuracy')\n",
        "\n",
        "# add titles, labels, and tick formatting \n",
        "axs[0].set_title('Model Accuracy For Successive Epochs')\n",
        "axs[0].set_xlabel('Epoch')\n",
        "axs[0].set_xticks(ticks=range(0,9))\n",
        "axs[0].set_xticklabels(labels=range(1,10))\n",
        "axs[0].set_ylabel('Accuracy')\n",
        "axs[0].set_ylim(.5,1)\n",
        "\n",
        "# add a legend\n",
        "axs[0].legend()\n",
        "\n",
        "# plot training and testing loss\n",
        "axs[1].plot(h.history['loss'], label='Training Loss')\n",
        "axs[1].plot(h.history['val_loss'], label='Testing Loss')\n",
        "\n",
        "# add titles, labels, and tick formatting\n",
        "axs[1].set_title('Model Loss For Successive Epochs')\n",
        "axs[1].set_xlabel('Epoch')\n",
        "axs[1].set_xticks(ticks=range(0,9))\n",
        "axs[1].set_xticklabels(labels=range(1,10))\n",
        "axs[1].set_ylabel('Loss')\n",
        "axs[1].set_ylim(0,1)\n",
        "\n",
        "# add a legend\n",
        "axs[1].legend();\n"
      ],
      "id": "131414e6-b158-4d8a-94f0-20860cbe2913"
    },
    {
      "cell_type": "markdown",
      "metadata": {
        "id": "5e5295e9-0776-4548-bd19-dd9702dcfdfd"
      },
      "source": [
        "These plots have a very similar shape to the plots for the Glaucoma model, but the training and testing scores are further apart. The model consistently does better with the testing data instead of the training data, perhaps indicating the image augmentation is producing images that are outside the range of what would be seen in actual images, and that diabetic retinopathy is easier for machine learning to detect than glaucoma. The training accuracy scores are roughly the same as in the Glaucoma model, around 85%, while the testing accuracy mainly stays in the 90-94% range, which is better than in the Glaucoma model. Using early stopping may again have limited the model's ability to learn, since it's unclear if the scores have truly leveled out or if they would continue to improve."
      ],
      "id": "5e5295e9-0776-4548-bd19-dd9702dcfdfd"
    },
    {
      "cell_type": "markdown",
      "metadata": {
        "id": "fd4386aa-9f0c-4cdf-9480-02fb886ed8b1"
      },
      "source": [
        "### Making a Confusion Matrix"
      ],
      "id": "fd4386aa-9f0c-4cdf-9480-02fb886ed8b1"
    },
    {
      "cell_type": "code",
      "execution_count": null,
      "metadata": {
        "id": "781b4a83-42da-4759-8c4c-a7a49d06a9b0",
        "colab": {
          "base_uri": "https://localhost:8080/"
        },
        "outputId": "b1ac6411-b6eb-4139-cbd7-82168fb41f9a"
      },
      "outputs": [
        {
          "output_type": "stream",
          "name": "stdout",
          "text": [
            "4/4 [==============================] - 1s 213ms/step\n"
          ]
        }
      ],
      "source": [
        "# generate predictions from X_test\n",
        "# in order to generate predictions correctly, the X_test images need to be fed to model.predict through\n",
        "# image_generator_test with shuffle set to False\n",
        "\n",
        "preds = model.predict(image_generator_test.flow(X_test, shuffle=False))"
      ],
      "id": "781b4a83-42da-4759-8c4c-a7a49d06a9b0"
    },
    {
      "cell_type": "code",
      "execution_count": null,
      "metadata": {
        "id": "bd1507ea-907e-452d-8636-e66b4f8b59e7",
        "colab": {
          "base_uri": "https://localhost:8080/"
        },
        "outputId": "e801eb45-c545-4de0-a85f-5af91f07a5e6"
      },
      "outputs": [
        {
          "output_type": "stream",
          "name": "stdout",
          "text": [
            "[[0.21806848]\n",
            " [0.24290659]\n",
            " [0.9999639 ]\n",
            " [0.9997608 ]\n",
            " [0.14168884]\n",
            " [0.21551044]\n",
            " [0.154401  ]\n",
            " [0.99991596]\n",
            " [0.99986315]\n",
            " [0.9998411 ]]\n"
          ]
        }
      ],
      "source": [
        "# the predictions are probabilities of whether to class the image as 0 (normal) or 1 (diseased)\n",
        "print(preds[0:10])"
      ],
      "id": "bd1507ea-907e-452d-8636-e66b4f8b59e7"
    },
    {
      "cell_type": "code",
      "execution_count": null,
      "metadata": {
        "id": "5a00dcfb-f905-40a2-bb2d-a53b8aada7ee"
      },
      "outputs": [],
      "source": [
        "# change the probabilities into 1s and 0s by testing if the probability is greater than .5 and turning \n",
        "# the True/False value into an int of 1 or 0\n",
        "preds = [int(x>0.5) for x in preds]"
      ],
      "id": "5a00dcfb-f905-40a2-bb2d-a53b8aada7ee"
    },
    {
      "cell_type": "code",
      "execution_count": null,
      "metadata": {
        "id": "b1c2603f-b7c1-40ec-8cb8-491602190c46",
        "colab": {
          "base_uri": "https://localhost:8080/"
        },
        "outputId": "45c47218-d52d-461f-e173-bd2ab2f56842"
      },
      "outputs": [
        {
          "output_type": "stream",
          "name": "stdout",
          "text": [
            "[0, 0, 1, 1, 0, 0, 0, 1, 1, 1, 1, 1, 0, 0, 1, 0, 0, 1, 1, 1, 0, 0, 1, 1, 1, 0, 0, 0, 1, 0, 0, 0, 1, 0, 1, 1, 0, 0, 1, 0, 0, 1, 1, 0, 1, 1, 1, 0, 1, 1, 0, 1, 0, 1, 1, 1, 0, 1, 0, 1, 1, 1, 0, 1, 1, 0, 1, 1, 0, 1, 1, 1, 1, 1, 0, 0, 1, 0, 0, 1, 1, 0, 0, 1, 1, 1, 0, 0, 0, 1, 0, 0, 1, 1, 0, 0, 1, 1, 0, 0, 0, 0, 0, 0, 1, 0, 1, 1, 0, 0, 0, 0, 0, 1, 1, 0, 1, 0, 1, 1, 0, 1, 1, 1, 1, 1, 1, 0]\n"
          ]
        }
      ],
      "source": [
        "# now the predictions can be used in the confusion matrix\n",
        "print(preds)"
      ],
      "id": "b1c2603f-b7c1-40ec-8cb8-491602190c46"
    },
    {
      "cell_type": "code",
      "execution_count": null,
      "metadata": {
        "id": "1e727512-107d-4d8c-8100-f02e6deae495",
        "colab": {
          "base_uri": "https://localhost:8080/"
        },
        "outputId": "befd085c-0321-46dc-92d9-0a93b24227ca"
      },
      "outputs": [
        {
          "output_type": "execute_result",
          "data": {
            "text/plain": [
              "array([0, 0, 1, 1, 0, 0, 0, 1, 1, 1, 1, 1, 0, 0, 1, 1, 0, 1, 1, 1, 0, 0,\n",
              "       1, 1, 1, 0, 0, 0, 1, 0, 0, 0, 1, 0, 1, 1, 1, 0, 1, 1, 0, 1, 1, 0,\n",
              "       1, 1, 1, 0, 1, 1, 0, 1, 1, 1, 1, 1, 0, 1, 1, 1, 1, 1, 0, 1, 1, 0,\n",
              "       1, 1, 0, 1, 1, 1, 1, 1, 0, 0, 1, 0, 1, 1, 1, 0, 0, 1, 1, 1, 0, 0,\n",
              "       0, 1, 0, 0, 1, 1, 0, 0, 1, 1, 1, 1, 0, 0, 0, 0, 1, 0, 1, 1, 0, 0,\n",
              "       0, 0, 1, 1, 1, 0, 1, 0, 1, 1, 1, 1, 1, 1, 1, 1, 1, 0])"
            ]
          },
          "metadata": {},
          "execution_count": 28
        }
      ],
      "source": [
        "# the true values to compare to the predictions are stored in y_test\n",
        "y_test"
      ],
      "id": "1e727512-107d-4d8c-8100-f02e6deae495"
    },
    {
      "cell_type": "code",
      "execution_count": null,
      "metadata": {
        "id": "18c2addf-7e56-4cb4-8c9d-811cf997d3e0",
        "colab": {
          "base_uri": "https://localhost:8080/",
          "height": 279
        },
        "outputId": "3e64699f-7acf-4d15-9c9a-99b851b64d90"
      },
      "outputs": [
        {
          "output_type": "display_data",
          "data": {
            "text/plain": [
              "<Figure size 432x288 with 2 Axes>"
            ],
            "image/png": "[encoded data removed]"
          },
          "metadata": {
            "needs_background": "light"
          }
        }
      ],
      "source": [
        "# make and display a confusion matrix\n",
        "conf_matrix = confusion_matrix(y_test, preds)\n",
        "ConfusionMatrixDisplay(confusion_matrix=conf_matrix, display_labels=['Normal','Retinopathy']).plot();"
      ],
      "id": "18c2addf-7e56-4cb4-8c9d-811cf997d3e0"
    },
    {
      "cell_type": "code",
      "execution_count": null,
      "metadata": {
        "id": "71aaa5f1-44b1-4176-a79c-cd61f7fd776f",
        "colab": {
          "base_uri": "https://localhost:8080/"
        },
        "outputId": "7422ea35-ab88-4ec2-b703-d3006d7eed97"
      },
      "outputs": [
        {
          "output_type": "stream",
          "name": "stdout",
          "text": [
            "              precision    recall  f1-score   support\n",
            "\n",
            "           0       0.83      1.00      0.91        50\n",
            "           1       1.00      0.87      0.93        78\n",
            "\n",
            "    accuracy                           0.92       128\n",
            "   macro avg       0.92      0.94      0.92       128\n",
            "weighted avg       0.93      0.92      0.92       128\n",
            "\n"
          ]
        }
      ],
      "source": [
        "print(classification_report(y_test, preds))"
      ],
      "id": "71aaa5f1-44b1-4176-a79c-cd61f7fd776f"
    }
  ],
  "metadata": {
    "accelerator": "GPU",
    "colab": {
      "provenance": []
    },
    "gpuClass": "standard",
    "kernelspec": {
      "display_name": "Python 3",
      "language": "python",
      "name": "python3"
    },
    "language_info": {
      "codemirror_mode": {
        "name": "ipython",
        "version": 3
      },
      "file_extension": ".py",
      "mimetype": "text/x-python",
      "name": "python",
      "nbconvert_exporter": "python",
      "pygments_lexer": "ipython3",
      "version": "3.8.8"
    }
  },
  "nbformat": 4,
  "nbformat_minor": 5
}